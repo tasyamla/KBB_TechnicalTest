{
 "cells": [
  {
   "cell_type": "code",
   "execution_count": 2,
   "metadata": {},
   "outputs": [],
   "source": [
    "# For Save Model\n",
    "import pickle\n",
    "import joblib\n",
    "import json\n",
    "\n",
    "import pandas as pd"
   ]
  },
  {
   "cell_type": "code",
   "execution_count": 3,
   "metadata": {},
   "outputs": [],
   "source": [
    "# Load model and other files\n",
    "\n",
    "with open('list_cols.txt', 'r') as file_1:\n",
    "  list_cols = json.load(file_1)\n",
    "\n",
    "with open(\"scaler.pkl\", \"rb\") as file_2:\n",
    "  scaler = pickle.load(file_2)\n",
    "\n",
    "with open(\"pca.pkl\", \"rb\") as file_3:\n",
    "  pca = pickle.load(file_3)\n",
    "\n",
    "with open(\"model_kmeans.pkl\", \"rb\") as file_4: \n",
    "  model_kmeans = pickle.load(file_4)\n",
    "\n"
   ]
  },
  {
   "cell_type": "code",
   "execution_count": 4,
   "metadata": {},
   "outputs": [
    {
     "data": {
      "text/html": [
       "<div>\n",
       "<style scoped>\n",
       "    .dataframe tbody tr th:only-of-type {\n",
       "        vertical-align: middle;\n",
       "    }\n",
       "\n",
       "    .dataframe tbody tr th {\n",
       "        vertical-align: top;\n",
       "    }\n",
       "\n",
       "    .dataframe thead th {\n",
       "        text-align: right;\n",
       "    }\n",
       "</style>\n",
       "<table border=\"1\" class=\"dataframe\">\n",
       "  <thead>\n",
       "    <tr style=\"text-align: right;\">\n",
       "      <th></th>\n",
       "      <th>X_Minimum</th>\n",
       "      <th>X_Maximum</th>\n",
       "      <th>Y_Minimum</th>\n",
       "      <th>Y_Maximum</th>\n",
       "      <th>Pixels_Areas</th>\n",
       "      <th>X_Perimeter</th>\n",
       "      <th>Y_Perimeter</th>\n",
       "      <th>Sum_of_Luminosity</th>\n",
       "      <th>Minimum_of_Luminosity</th>\n",
       "      <th>Maximum_of_Luminosity</th>\n",
       "      <th>...</th>\n",
       "      <th>Orientation_Index</th>\n",
       "      <th>Luminosity_Index</th>\n",
       "      <th>SigmoidOfAreas</th>\n",
       "      <th>Pastry</th>\n",
       "      <th>Z_Scratch</th>\n",
       "      <th>K_Scatch</th>\n",
       "      <th>Stains</th>\n",
       "      <th>Dirtiness</th>\n",
       "      <th>Bumps</th>\n",
       "      <th>Other_Faults</th>\n",
       "    </tr>\n",
       "  </thead>\n",
       "  <tbody>\n",
       "    <tr>\n",
       "      <th>0</th>\n",
       "      <td>853</td>\n",
       "      <td>860</td>\n",
       "      <td>2538079</td>\n",
       "      <td>270944</td>\n",
       "      <td>267</td>\n",
       "      <td>17</td>\n",
       "      <td>44</td>\n",
       "      <td>7972</td>\n",
       "      <td>76</td>\n",
       "      <td>125</td>\n",
       "      <td>...</td>\n",
       "      <td>0.8182</td>\n",
       "      <td>0.1228</td>\n",
       "      <td>0.2150</td>\n",
       "      <td>1</td>\n",
       "      <td>0</td>\n",
       "      <td>0</td>\n",
       "      <td>0</td>\n",
       "      <td>1</td>\n",
       "      <td>1</td>\n",
       "      <td>0</td>\n",
       "    </tr>\n",
       "    <tr>\n",
       "      <th>1</th>\n",
       "      <td>645</td>\n",
       "      <td>651</td>\n",
       "      <td>369370</td>\n",
       "      <td>1553931</td>\n",
       "      <td>71</td>\n",
       "      <td>19</td>\n",
       "      <td>30</td>\n",
       "      <td>11397</td>\n",
       "      <td>99</td>\n",
       "      <td>108</td>\n",
       "      <td>...</td>\n",
       "      <td>0.8444</td>\n",
       "      <td>0.1992</td>\n",
       "      <td>0.5212</td>\n",
       "      <td>0</td>\n",
       "      <td>1</td>\n",
       "      <td>0</td>\n",
       "      <td>0</td>\n",
       "      <td>0</td>\n",
       "      <td>0</td>\n",
       "      <td>1</td>\n",
       "    </tr>\n",
       "  </tbody>\n",
       "</table>\n",
       "<p>2 rows × 34 columns</p>\n",
       "</div>"
      ],
      "text/plain": [
       "   X_Minimum  X_Maximum  Y_Minimum  Y_Maximum  Pixels_Areas  X_Perimeter  \\\n",
       "0        853        860    2538079     270944           267           17   \n",
       "1        645        651     369370    1553931            71           19   \n",
       "\n",
       "   Y_Perimeter  Sum_of_Luminosity  Minimum_of_Luminosity  \\\n",
       "0           44               7972                     76   \n",
       "1           30              11397                     99   \n",
       "\n",
       "   Maximum_of_Luminosity  ...  Orientation_Index  Luminosity_Index  \\\n",
       "0                    125  ...             0.8182            0.1228   \n",
       "1                    108  ...             0.8444            0.1992   \n",
       "\n",
       "   SigmoidOfAreas  Pastry  Z_Scratch  K_Scatch  Stains  Dirtiness  Bumps  \\\n",
       "0          0.2150       1          0         0       0          1      1   \n",
       "1          0.5212       0          1         0       0          0      0   \n",
       "\n",
       "   Other_Faults  \n",
       "0             0  \n",
       "1             1  \n",
       "\n",
       "[2 rows x 34 columns]"
      ]
     },
     "metadata": {},
     "output_type": "display_data"
    }
   ],
   "source": [
    "# Membuat Data Dummy\n",
    "data_dummy = {\n",
    "    'X_Minimum': [853, 645],\n",
    "    'X_Maximum': [860, 651],\n",
    "    'Y_Minimum': [2538079, 369370],\n",
    "    'Y_Maximum': [270944, 1553931 ],\n",
    "    'Pixels_Areas': [267, 71 ],\n",
    "    'X_Perimeter': [17, 19 ],\n",
    "    'Y_Perimeter': [44, 30 ],\n",
    "    'Sum_of_Luminosity': [7972, 11397 ],\n",
    "    'Minimum_of_Luminosity': [76, 99 ],\n",
    "    'Maximum_of_Luminosity': [125, 108 ],\n",
    "    'Length_of_Conveyer': [1623, 1387 ],\n",
    "    'TypeOfSteel_A300': [1, 0 ],\n",
    "    'TypeOfSteel_A400': [0, 1 ],\n",
    "    'Steel_Plate_Thickness': [100, 150 ],\n",
    "    'Edges_Index': [0.7647, 0.7287 ],\n",
    "    'Empty_Index': [0.2415, 0.3426 ],\n",
    "    'Square_Index': [0.2069, 0.0662 ],\n",
    "    'Outside_X_Index': [0.0047, 0.0126 ],\n",
    "    'Edges_X_Index': [0.75, 0.2833 ],\n",
    "    'Edges_Y_Index': [0.9474, 0.982 ],\n",
    "    'Outside_Global_Index': [0.5, 1.0 ],\n",
    "    'LogOfAreas': [2.4265, 2.2455 ],\n",
    "    'Log_X_Index': [0.8451, 0.9031 ],\n",
    "    'Log_Y_Index': [1.6532, 1.939 ],\n",
    "    'Orientation_Index': [0.8182, 0.8444 ],\n",
    "    'Luminosity_Index': [0.1228, 0.1992 ],\n",
    "    'SigmoidOfAreas': [0.215, 0.5212 ],\n",
    "    'Pastry': [1, 0 ],\n",
    "    'Z_Scratch': [0, 1 ],\n",
    "    'K_Scatch': [0, 0 ],\n",
    "    'Stains': [0, 0 ],\n",
    "    'Dirtiness': [1, 0 ],\n",
    "    'Bumps': [1, 0 ],\n",
    "    'Other_Faults': [0, 1 ],\n",
    "}\n",
    "\n",
    "# Membuat DataFrame\n",
    "df_data_dummy = pd.DataFrame(data_dummy)\n",
    "\n",
    "# Menampilkan DataFrame\n",
    "display(df_data_dummy.head())"
   ]
  },
  {
   "cell_type": "code",
   "execution_count": 5,
   "metadata": {},
   "outputs": [
    {
     "data": {
      "text/plain": [
       "array([[-1.90558544,  0.1372576 ,  0.60617501,  0.92934543,  0.05686673,\n",
       "         1.05595658, -0.93965651],\n",
       "       [-1.64516344, -0.0113991 ,  2.11352899,  1.21320264,  0.78288575,\n",
       "        -0.130481  ,  0.09227297]])"
      ]
     },
     "execution_count": 5,
     "metadata": {},
     "output_type": "execute_result"
    }
   ],
   "source": [
    "#Splitting the dataset into categorical and numerical columns\n",
    "data_inference_selected = df_data_dummy[list_cols]\n",
    "\n",
    "# Scaling the numerical features, encoding the categorical features, and concatenating them back again\n",
    "data_inference_scaled = scaler.transform(data_inference_selected)\n",
    "data_inference_scaled_reduced = pca.transform(data_inference_scaled)\n",
    "data_inference_final = data_inference_scaled_reduced\n",
    "data_inference_final"
   ]
  },
  {
   "cell_type": "code",
   "execution_count": 6,
   "metadata": {},
   "outputs": [
    {
     "name": "stdout",
     "output_type": "stream",
     "text": [
      "Predicted Overall: 0.00\n"
     ]
    }
   ],
   "source": [
    "# Predict the score\n",
    "predicted_score = model_kmeans.predict(data_inference_final)\n",
    "\n",
    "# Show result\n",
    "print(f\"Predicted Overall: {predicted_score[0]:.2f}\")"
   ]
  }
 ],
 "metadata": {
  "kernelspec": {
   "display_name": "base",
   "language": "python",
   "name": "python3"
  },
  "language_info": {
   "codemirror_mode": {
    "name": "ipython",
    "version": 3
   },
   "file_extension": ".py",
   "mimetype": "text/x-python",
   "name": "python",
   "nbconvert_exporter": "python",
   "pygments_lexer": "ipython3",
   "version": "3.9.13"
  }
 },
 "nbformat": 4,
 "nbformat_minor": 2
}
